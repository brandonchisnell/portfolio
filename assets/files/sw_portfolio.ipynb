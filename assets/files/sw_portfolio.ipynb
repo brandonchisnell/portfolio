{
 "cells": [
  {
   "cell_type": "code",
   "execution_count": null,
   "id": "a5f6828c",
   "metadata": {},
   "outputs": [],
   "source": [
    "import matplotlib as mpl\n",
    "import matplotlib.pyplot as plt \n",
    "%matplotlib inline\n",
    "import seaborn as sns\n",
    "import pandas as pd\n",
    "import statsmodels.api as sm\n",
    "sns.set_style(\"darkgrid\")\n",
    "mpl.rcParams['figure.figsize'] = (20,5)"
   ]
  },
  {
   "cell_type": "code",
   "execution_count": null,
   "id": "23ea1040",
   "metadata": {},
   "outputs": [],
   "source": [
    "dataframe_raw = pd.read_csv(\"DF_Raw_Data.csv\")\n",
    "dataframe_stdev = pd.read_csv(\"DF_Rolling_Stdev.csv\")"
   ]
  },
  {
   "cell_type": "code",
   "execution_count": null,
   "id": "ef63a0b3",
   "metadata": {},
   "outputs": [],
   "source": [
    "print(dataframe_raw.describe())\n",
    "print(dataframe_raw.info())\n",
    "print(dataframe_stdev.describe())\n",
    "print(dataframe_stdev.info())"
   ]
  },
  {
   "cell_type": "code",
   "execution_count": null,
   "id": "c99cf21d",
   "metadata": {},
   "outputs": [],
   "source": [
    "#DIFFERENTIAL STATISTICS\n",
    "\n",
    "#Visualize the data from each dataset\n",
    "dataframe_raw.plot(kind='box').set_title(\"Raw Dataframe Box Plot\")\n",
    "\n",
    "dataframe_raw.plot(kind='line').set_title(\"Raw Dataframe Line Plot\")\n",
    "plt.legend(bbox_to_anchor=(1.15, 1), loc='upper right', borderaxespad=0)\n",
    "\n",
    "plt.show()"
   ]
  },
  {
   "cell_type": "code",
   "execution_count": null,
   "id": "ec5d444e",
   "metadata": {},
   "outputs": [],
   "source": [
    "dataframe_stdev.plot(kind='box').set_title(\"Stdev Dataframe Box Plot\")\n",
    "\n",
    "dataframe_stdev.plot(kind='line').set_title(\"Stdev Dataframe Line Plot\")\n",
    "plt.legend(bbox_to_anchor=(1.15, 1), loc='upper right', borderaxespad=0)\n",
    "\n",
    "plt.show()\n",
    "\n",
    "#dataframe_stdev has many more outliers than dataframe_raw, while dataframe_raw has a larger IQR. Regarding the line plots,\n",
    "#the two dataframes act in opposite each other. When the variables in dataframe_raw spike high, they drop low in\n",
    "#dataframe_stdev."
   ]
  },
  {
   "cell_type": "code",
   "execution_count": null,
   "id": "953cf3d9",
   "metadata": {},
   "outputs": [],
   "source": [
    "#Visualize when the pump is working and when it is not working for both datasets\n",
    "RPF0 = dataframe_raw[\"PUMP FAILURE (1 or 0)\"]== 0\n",
    "d_raw0 = dataframe_raw[RPF0]\n",
    "d_raw0.plot(kind='box')\n",
    "plt.title(\"Raw Dataframe Pump Working\")\n",
    "\n",
    "RPF1 = dataframe_raw[\"PUMP FAILURE (1 or 0)\"]== 1\n",
    "d_raw1 = dataframe_raw[RPF1]\n",
    "d_raw1.plot(kind='box')\n",
    "plt.title(\"Raw Dataframe Pump Failed\")\n",
    "\n",
    "SPF0 = dataframe_stdev[\"PUMP FAILURE (1 or 0)\"]== 0\n",
    "d_stdev0 = dataframe_stdev[SPF0]\n",
    "d_stdev0.plot(kind='box')\n",
    "plt.title(\"Standard Deviation Dataframe Pump Working\")\n",
    "\n",
    "SPF1 = dataframe_stdev[\"PUMP FAILURE (1 or 0)\"]== 1\n",
    "d_stdev1 = dataframe_stdev[SPF1]\n",
    "d_stdev1.plot(kind='box')\n",
    "plt.title(\"Standard Deviation Dataframe Pump Failed\")\n",
    "\n",
    "plt.show()\n",
    "\n",
    "#While looking at the raw dataframe, when the pump fails the Pump Speed (RPM), Pump Torque and Ambient Temperature \n",
    "#values show a slight upwards shift. All variables display an increase in their IQR except Ambient Temperature and \n",
    "#Horse Power.\n",
    "\n",
    "#While looking at the stdev dataframe, when the pump fails we see the values among all variables spread out more evenly \n",
    "#throughought their ranges, making for increased upper quartiles and displaying no noticeable outliers. When the pump is \n",
    "#working there are many outliers, and the upper quartiles are closer to the lower ones leaving small IQRs."
   ]
  },
  {
   "cell_type": "code",
   "execution_count": null,
   "id": "ae6ea823",
   "metadata": {},
   "outputs": [],
   "source": [
    "#Create quartiles\n",
    "Raw_Q1 = dataframe_raw.quantile(0.25)\n",
    "Raw_Q3 = dataframe_raw.quantile(0.75)\n",
    "Raw_IQR = Raw_Q3 - Raw_Q1\n",
    "Raw_IQR"
   ]
  },
  {
   "cell_type": "code",
   "execution_count": null,
   "id": "64419802",
   "metadata": {},
   "outputs": [],
   "source": [
    "#Identify Outliers\n",
    "Lower_Limit = Raw_Q1 - 1.5*Raw_IQR\n",
    "Upper_Limit = Raw_Q3 + 1.5*Raw_IQR\n",
    "\n",
    "Outliers = dataframe_raw[((dataframe_raw < Lower_Limit) | ((dataframe_raw > Upper_Limit))).any(axis=1)]\n",
    "print(len(Outliers))\n",
    "\n",
    "percentage_of_nonoutliers = 1 - (len(Outliers)/len(dataframe_raw))\n",
    "print(percentage_of_nonoutliers)\n",
    "\n",
    "Outliers.describe()\n",
    "\n",
    "#In this dataset, we see that there were a total of 95 outliers, leaving 96% of our data to work with. In this case it would\n",
    "#be ok to remove the outliers, especially since they tend to skew analysis. By removing them, our analysis will become more \n",
    "#\"significant\". Of course, removing outliers will display more of a normal relationship within a variable's values. "
   ]
  },
  {
   "cell_type": "code",
   "execution_count": null,
   "id": "82f16be4",
   "metadata": {},
   "outputs": [],
   "source": [
    "#Visualize without outliers\n",
    "no_outliers = dataframe_raw[~((dataframe_raw < Lower_Limit) | ((dataframe_raw > Upper_Limit ))).any(axis=1)]\n",
    "\n",
    "no_outliers[no_outliers['PUMP FAILURE (1 or 0)']==0].plot(kind='box')\n",
    "plt.title(\"All Outliers Removed (Pump Failure = 0 )\")\n",
    "plt.show()\n",
    "\n",
    "no_outliers[no_outliers['PUMP FAILURE (1 or 0)']==1].plot(kind='box')\n",
    "plt.title(\"All Outliers Removed (Pump Failure = 1 )\")\n",
    "plt.show()"
   ]
  },
  {
   "cell_type": "code",
   "execution_count": null,
   "id": "b1c0ad50",
   "metadata": {},
   "outputs": [],
   "source": [
    "#Loop through raw dataset, plot each variable against pump failure\n",
    "List_Of_Variables = ['Volumetric Flow Meter 1',\n",
    "       'Volumetric Flow Meter 2', 'Pump Speed (RPM)', 'Pump Torque ',\n",
    "       'Ambient Temperature', 'Horse Power', 'Pump Efficiency']\n",
    "\n",
    "dataframe_raw.set_index('TIMEFRAME (DD/MM/YYYY)', inplace=True)\n",
    "\n",
    "for i in List_Of_Variables:\n",
    "    first_axis = dataframe_raw[i].plot()\n",
    "    first_axis.xaxis.set_major_locator(plt.MaxNLocator(10))\n",
    "    second_axis = first_axis.twinx()\n",
    "    second_axis.plot(dataframe_raw['PUMP FAILURE (1 or 0)'], color='teal')\n",
    "    second_axis.xaxis.set_major_locator(plt.MaxNLocator(10))\n",
    "    plt.title(i)\n",
    "    plt.show()\n",
    "    \n",
    "#The largest spikes and drops in each variables' values occur during pump failure. \n",
    "#The Pump Speed (RPM), Ambient Temperature and Horsepower variables seem to be most afected by the pump failure."
   ]
  },
  {
   "cell_type": "code",
   "execution_count": null,
   "id": "12d0bf5d",
   "metadata": {},
   "outputs": [],
   "source": [
    "#Replot time period 10/12/2014 12:00 to 10/12/2014 14:30 and set TIMEFRAME\n",
    "\n",
    "List_Of_Variables = ['Volumetric Flow Meter 1', 'Volumetric Flow Meter 2', 'Pump Speed (RPM)', 'Pump Torque ',\n",
    "                     'Ambient Temperature', 'Horse Power', 'Pump Efficiency']\n",
    "\n",
    "dataframe_stdev.set_index('TIMEFRAME (DD/MM/YYYY)', inplace=True)\n",
    "dataframe_stdev = dataframe_stdev[(dataframe_stdev.index>= \"10/12/2014 12:00\") & (dataframe_stdev.index<=\"10/12/2014 14:30\")]\n",
    "\n",
    "for i in List_Of_Variables:\n",
    "    first_axis = dataframe_stdev[i].plot()\n",
    "    first_axis.xaxis.set_major_locator(plt.MaxNLocator(10))\n",
    "    second_axis = first_axis.twinx()\n",
    "    second_axis.plot(dataframe_stdev['PUMP FAILURE (1 or 0)'], color='teal')\n",
    "    second_axis.xaxis.set_major_locator(plt.MaxNLocator(10))\n",
    "    plt.title(i)\n",
    "    plt.show()"
   ]
  },
  {
   "cell_type": "code",
   "execution_count": null,
   "id": "b139d195",
   "metadata": {},
   "outputs": [],
   "source": [
    "#INFERENTIAL STATISTICS\n",
    "\n",
    "#Show correlation of all variables in raw dataset\n",
    "sns.heatmap(dataframe_raw.corr(), annot=True)\n",
    "plt.title(\"Correlated Raw Heatmap\")\n",
    "plt.show()\n",
    "\n",
    "#Upon observing the heatmap, Horse Power is most strongly correlated with pump failure."
   ]
  },
  {
   "cell_type": "code",
   "execution_count": null,
   "id": "1a5cf675",
   "metadata": {},
   "outputs": [],
   "source": [
    "dataframe_raw.corr()"
   ]
  },
  {
   "cell_type": "code",
   "execution_count": null,
   "id": "e2830004",
   "metadata": {},
   "outputs": [],
   "source": [
    "#Plot the variables correlations\n",
    "dataframe_raw.corr()['PUMP FAILURE (1 or 0)'].sort_values(ascending=False).plot(kind='bar')\n",
    "plt.title(\"Correlated Bar Plot(Raw Data)\")\n",
    "plt.show()"
   ]
  },
  {
   "cell_type": "code",
   "execution_count": null,
   "id": "9adca777",
   "metadata": {},
   "outputs": [],
   "source": [
    "#Visualize correlations of each variable in stdev dataset\n",
    "\n",
    "sns.heatmap(dataframe_stdev.corr(), annot=True)\n",
    "plt.title(\"Correlated Stdev Heatmap\")\n",
    "plt.show()\n",
    "\n",
    "#Pump Speed (RPM), Pump Torque and Ambient Temperature appear to be very closly correlated to pump failure."
   ]
  },
  {
   "cell_type": "code",
   "execution_count": null,
   "id": "530bd83c",
   "metadata": {},
   "outputs": [],
   "source": [
    "#Multivariate Regression Model\n",
    "\n",
    "#Dataframe_Raw\n",
    "dataframe_raw = pd.read_csv(\"DF_Raw_Data.csv\")\n",
    "\n",
    "independent_variables = dataframe_raw[['Volumetric Flow Meter 1', 'Volumetric Flow Meter 2', 'Pump Speed (RPM)', \n",
    "                                       'Pump Torque ', 'Ambient Temperature', 'Horse Power', 'Pump Efficiency']]\n",
    "\n",
    "dependent_variables = dataframe_raw['PUMP FAILURE (1 or 0)']\n",
    "\n",
    "independent_variables = sm.add_constant(independent_variables)\n",
    "\n",
    "regression_model = sm.OLS(dependent_variables, independent_variables).fit()\n",
    "print(regression_model.summary())"
   ]
  },
  {
   "cell_type": "code",
   "execution_count": null,
   "id": "67124ad6",
   "metadata": {},
   "outputs": [],
   "source": [
    "#Multivariate Regression Model\n",
    "\n",
    "#Dataframe_Stdev\n",
    "dataframe_stdev = pd.read_csv(\"DF_Rolling_Stdev.csv\")\n",
    "independent_variables = dataframe_stdev[['Volumetric Flow Meter 1', 'Volumetric Flow Meter 2', 'Pump Speed (RPM)', \n",
    "                                       'Pump Torque ', 'Ambient Temperature', 'Horse Power', 'Pump Efficiency']]\n",
    "\n",
    "dependent_variables = dataframe_stdev['PUMP FAILURE (1 or 0)']\n",
    "\n",
    "independent_variables = sm.add_constant(independent_variables)\n",
    "\n",
    "regression_model = sm.OLS(dependent_variables, independent_variables).fit()\n",
    "print(regression_model.summary())"
   ]
  },
  {
   "cell_type": "code",
   "execution_count": null,
   "id": "8e294274",
   "metadata": {},
   "outputs": [],
   "source": [
    "#With the raw dataset having an R-squared of 0.362 and the stdev dataset having and R-squared of 0.778, we can see that the\n",
    "#regression model of the stdev dataset is going to fit our our data better. The rule is, in general, the higher the \n",
    "#R-squared, the better the model fits your data. Our data is closer to the fitted regression line in the stdev dataset."
   ]
  },
  {
   "cell_type": "code",
   "execution_count": null,
   "id": "46c647f0",
   "metadata": {},
   "outputs": [],
   "source": [
    "#Extract coefficients from regression model and create a bar plot that identifies which coefficients react most \n",
    "#strongly with respect to Pump Failure.\n",
    "\n",
    "regression_model.params.sort_values(ascending=False).plot(kind='bar')\n",
    "plt.title(\"Regressive Coefficients for Pump Failure\")\n",
    "plt.show()"
   ]
  },
  {
   "cell_type": "code",
   "execution_count": null,
   "id": "a9320906",
   "metadata": {},
   "outputs": [],
   "source": [
    "#Validate Predictions\n",
    "\n",
    "#Create Prediction column and apply the .predict() function to the independent variables\n",
    "dataframe_stdev['Prediction'] = pd.DataFrame(regression_model.predict(independent_variables))\n",
    "dataframe_stdev.set_index(\"TIMEFRAME (DD/MM/YYYY)\", inplace=True)\n",
    "primary_axes = dataframe_stdev['Volumetric Flow Meter 2'].plot(alpha=0.7)\n",
    "primary_axes = dataframe_stdev['Pump Efficiency'].plot(alpha=0.7)\n",
    "primary_axes = dataframe_stdev['Horse Power'].plot(alpha=0.7)\n",
    "primary_axes.xaxis.set_major_locator(plt.MaxNLocator(10))\n",
    "second_axes = primary_axes.twinx()\n",
    "second_axes.plot(dataframe_stdev['Prediction'], color='purple', alpha=0.6, label='Prediction')\n",
    "second_axes.plot(dataframe_stdev['PUMP FAILURE (1 or 0)'], color='Black', linewidth=2, label='Pump Failure')\n",
    "second_axes.xaxis.set_major_locator(plt.MaxNLocator(10))\n",
    "second_axes.legend()\n",
    "primary_axes.legend(bbox_to_anchor=(1.04,1), loc=\"upper left\")\n",
    "plt.title(\"Regressive Equation Plot\")\n",
    "plt.show()"
   ]
  }
 ],
 "metadata": {
  "kernelspec": {
   "display_name": "Python 3 (ipykernel)",
   "language": "python",
   "name": "python3"
  },
  "language_info": {
   "codemirror_mode": {
    "name": "ipython",
    "version": 3
   },
   "file_extension": ".py",
   "mimetype": "text/x-python",
   "name": "python",
   "nbconvert_exporter": "python",
   "pygments_lexer": "ipython3",
   "version": "3.9.13"
  }
 },
 "nbformat": 4,
 "nbformat_minor": 5
}
