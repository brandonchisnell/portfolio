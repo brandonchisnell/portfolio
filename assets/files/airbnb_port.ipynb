{
 "cells": [
  {
   "cell_type": "code",
   "execution_count": null,
   "id": "f96b03c7",
   "metadata": {},
   "outputs": [],
   "source": [
    "import matplotlib.pyplot as plt\n",
    "import pandas as pd\n",
    "import seaborn as sns\n",
    "import numpy as np"
   ]
  },
  {
   "cell_type": "code",
   "execution_count": null,
   "id": "886b6cb8",
   "metadata": {},
   "outputs": [],
   "source": [
    "abb = pd.read_csv('airbnb_2.csv')\n",
    "abb.info()"
   ]
  },
  {
   "cell_type": "code",
   "execution_count": null,
   "id": "428ce8d2",
   "metadata": {},
   "outputs": [],
   "source": [
    "#Count the number of listings in each neighborhood group\n",
    "nbh_counts_sorted = abb[\"neighbourhood_group\"].value_counts(sort=True, ascending=False)\n",
    "print(nbh_counts_sorted)\n",
    "\n",
    "nbh_counts_sorted.plot(kind=\"bar\")\n",
    "plt.show()"
   ]
  },
  {
   "cell_type": "code",
   "execution_count": null,
   "id": "ce2eefe1",
   "metadata": {},
   "outputs": [],
   "source": [
    "#Percentage of listings on each neighborhood group\n",
    "nbh_props_sorted = abb[\"neighbourhood_group\"].value_counts(sort=True, ascending=False, normalize=True)\n",
    "print(nbh_props_sorted)"
   ]
  },
  {
   "cell_type": "code",
   "execution_count": null,
   "id": "3022d6cb",
   "metadata": {},
   "outputs": [],
   "source": [
    "#Create revenue column\n",
    "abb[\"revenue\"] = abb[\"price\"] * abb[\"number_of_reviews\"]\n",
    "abb.info()"
   ]
  },
  {
   "cell_type": "code",
   "execution_count": null,
   "id": "640a3313",
   "metadata": {},
   "outputs": [],
   "source": [
    "#Average revenues by neighborhood group\n",
    "avgrev_by_nbh = abb.groupby(\"neighbourhood_group\")[\"revenue\"].mean().sort_values(ascending=False)\n",
    "print(avgrev_by_nbh)\n",
    "\n",
    "avgrev_by_nbh.plot(kind=\"bar\")\n",
    "plt.show()"
   ]
  },
  {
   "cell_type": "code",
   "execution_count": null,
   "id": "5bc27268",
   "metadata": {},
   "outputs": [],
   "source": [
    "#Focus on Brooklyn, Manhattan and Queens. Check on which neighborhoods in these groups had the highest average revenues.\n",
    "mbq = abb[(abb[\"neighbourhood_group\"] == \"Manhattan\") | \n",
    "                  (abb[\"neighbourhood_group\"] == \"Brooklyn\") | \n",
    "                  (abb[\"neighbourhood_group\"] == \"Queens\")]\n",
    "\n",
    "mbqn = pd.DataFrame(mbq.groupby([\"neighbourhood_group\", \"neighbourhood\"])['revenue'].sum().reset_index())\n",
    "\n",
    "sorted_mbqn = mbqn.sort_values(['neighbourhood_group', 'revenue'], ascending=[True, False])\n",
    "\n",
    "top_3_n = sorted_mbqn.groupby('neighbourhood_group').head(3)\n",
    "print(top_3_n)"
   ]
  },
  {
   "cell_type": "code",
   "execution_count": null,
   "id": "03110e05",
   "metadata": {},
   "outputs": [],
   "source": [
    "#Filter the dataframe to include only these neighborhoods. Calculate which room type in these neighborhoods has the highest\n",
    "#average revenues\n",
    "nbhd = mbq[(mbq[\"neighbourhood\"] == \"Williamsburg\") | \n",
    "                  (mbq[\"neighbourhood\"] == \"Bedford-Stuyvesant\") | \n",
    "                  (mbq[\"neighbourhood\"] == \"Bushwick\") |\n",
    "                  (mbq[\"neighbourhood\"] == \"Harlem\") | \n",
    "                  (mbq[\"neighbourhood\"] == \"Hell's Kitchen\") | \n",
    "                  (mbq[\"neighbourhood\"] == \"East Village\") |\n",
    "                  (mbq[\"neighbourhood\"] == \"Astoria\") | \n",
    "                  (mbq[\"neighbourhood\"] == \"Long Island City\") | \n",
    "                  (mbq[\"neighbourhood\"] == \"Flushing\")]\n",
    "    \n",
    "nbhdrt = nbhd.groupby(['neighbourhood','room_type']).mean().sort_values(by=['revenue'],ascending=False)['revenue'].groupby(['neighbourhood']).head(1).plot(kind='bar')\n",
    "\n",
    "\n",
    "plt.show()"
   ]
  }
 ],
 "metadata": {
  "kernelspec": {
   "display_name": "Python 3 (ipykernel)",
   "language": "python",
   "name": "python3"
  },
  "language_info": {
   "codemirror_mode": {
    "name": "ipython",
    "version": 3
   },
   "file_extension": ".py",
   "mimetype": "text/x-python",
   "name": "python",
   "nbconvert_exporter": "python",
   "pygments_lexer": "ipython3",
   "version": "3.9.13"
  }
 },
 "nbformat": 4,
 "nbformat_minor": 5
}
